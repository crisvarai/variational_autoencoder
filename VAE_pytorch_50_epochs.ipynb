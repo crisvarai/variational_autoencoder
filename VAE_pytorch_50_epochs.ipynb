{
 "cells": [
  {
   "attachments": {},
   "cell_type": "markdown",
   "metadata": {},
   "source": [
    "## Variational AutoEncoder"
   ]
  },
  {
   "attachments": {},
   "cell_type": "markdown",
   "metadata": {},
   "source": [
    "### Import Libraries"
   ]
  },
  {
   "cell_type": "code",
   "execution_count": 1,
   "metadata": {},
   "outputs": [],
   "source": [
    "import numpy as np\n",
    "import torch\n",
    "from torch import nn\n",
    "\n",
    "import torchvision.datasets as datasets\n",
    "from torch.utils.data import DataLoader\n",
    "\n",
    "from torchvision import transforms\n",
    "from torchvision.utils import save_image\n",
    "\n",
    "import matplotlib.pyplot as plt\n",
    "from tqdm.notebook import tqdm\n",
    "import random"
   ]
  },
  {
   "attachments": {},
   "cell_type": "markdown",
   "metadata": {},
   "source": [
    "### Dataset"
   ]
  },
  {
   "cell_type": "code",
   "execution_count": 2,
   "metadata": {},
   "outputs": [],
   "source": [
    "dataset = datasets.MNIST(root=\".\", train=True, transform=transforms.ToTensor(), download=True)"
   ]
  },
  {
   "cell_type": "code",
   "execution_count": 3,
   "metadata": {},
   "outputs": [],
   "source": [
    "def show_imgs(dataset, r=3, c=4):\n",
    "    plt.figure(figsize=(2*c, 2*r))\n",
    "    for _r in range(r):\n",
    "        for _c in range(c):\n",
    "            plt.subplot(r, c, _r*c + _c + 1)\n",
    "            ix = random.randint(0, len(dataset)-1)\n",
    "            img, label = dataset[ix]\n",
    "            plt.imshow(img.squeeze(0), cmap='gray')\n",
    "            plt.axis(\"off\")\n",
    "            plt.title(label)\n",
    "    plt.tight_layout()\n",
    "    plt.show()"
   ]
  },
  {
   "cell_type": "code",
   "execution_count": 4,
   "metadata": {},
   "outputs": [
    {
     "data": {
      "image/png": "[encoded data removed]",
      "text/plain": [
       "<Figure size 800x600 with 12 Axes>"
      ]
     },
     "metadata": {},
     "output_type": "display_data"
    }
   ],
   "source": [
    "show_imgs(dataset)"
   ]
  },
  {
   "attachments": {},
   "cell_type": "markdown",
   "metadata": {},
   "source": [
    "### Model"
   ]
  },
  {
   "cell_type": "code",
   "execution_count": 5,
   "metadata": {},
   "outputs": [],
   "source": [
    "class VAE(nn.Module):\n",
    "    \n",
    "    def __init__(self, in_dim, hidden_dim=200, z_dim=20):\n",
    "        super().__init__()\n",
    "        # encoder init\n",
    "        self.img_to_hid = nn.Linear(in_dim, hidden_dim)\n",
    "        self.hidden_to_mu = nn.Linear(hidden_dim, z_dim)\n",
    "        self.hidden_to_sigma = nn.Linear(hidden_dim, z_dim)\n",
    "\n",
    "        # decoder init\n",
    "        self.z_to_hidden = nn.Linear(z_dim, hidden_dim)\n",
    "        self.hidden_to_img = nn.Linear(hidden_dim, in_dim)\n",
    "\n",
    "        # activation functions init\n",
    "        self.relu = nn.ReLU()\n",
    "        self.sigmoid = nn.Sigmoid()\n",
    "\n",
    "    # Encoder Function\n",
    "    def encode(self, x):\n",
    "        hidden = self.relu(self.img_to_hid(x))\n",
    "        mu, sigma = self.hidden_to_mu(hidden), self.hidden_to_sigma(hidden)\n",
    "        return mu, sigma\n",
    "\n",
    "    # Decoder Function\n",
    "    def decode(self, z):\n",
    "        hidden = self.relu(self.z_to_hidden(z))\n",
    "        return self.sigmoid(self.hidden_to_img(hidden))\n",
    "\n",
    "    # Forward\n",
    "    def forward(self, x):\n",
    "        mu, sigma = self.encode(x)\n",
    "        epsilon = torch.rand_like(sigma)\n",
    "        z_new = mu + sigma*epsilon\n",
    "        x_rec = self.decode(z_new)          # x reconstructed\n",
    "        return x_rec, mu, sigma"
   ]
  },
  {
   "attachments": {},
   "cell_type": "markdown",
   "metadata": {},
   "source": [
    "### Model dimensions check"
   ]
  },
  {
   "cell_type": "code",
   "execution_count": 6,
   "metadata": {},
   "outputs": [
    {
     "name": "stdout",
     "output_type": "stream",
     "text": [
      "x_rec: torch.Size([4, 784]) mu: torch.Size([4, 20]), sigma: torch.Size([4, 20])\n"
     ]
    }
   ],
   "source": [
    "x = torch.randn(4, 28*28)\n",
    "vae_model = VAE(in_dim=784)\n",
    "x_rec, mu, sigma = vae_model(x)\n",
    "print(f\"x_rec: {x_rec.shape} mu: {mu.shape}, sigma: {sigma.shape}\")"
   ]
  },
  {
   "attachments": {},
   "cell_type": "markdown",
   "metadata": {},
   "source": [
    "### Config"
   ]
  },
  {
   "cell_type": "code",
   "execution_count": 7,
   "metadata": {},
   "outputs": [],
   "source": [
    "device = torch.device(\"cuda\" if torch.cuda.is_available() else \"cpu\")\n",
    "\n",
    "in_dim = 784\n",
    "h_dim = 200\n",
    "z_dim = 20\n",
    "epochs = 51\n",
    "\n",
    "batch_size = 32\n",
    "lr = 3e-4"
   ]
  },
  {
   "attachments": {},
   "cell_type": "markdown",
   "metadata": {},
   "source": [
    "### Dataloader"
   ]
  },
  {
   "cell_type": "code",
   "execution_count": 8,
   "metadata": {},
   "outputs": [],
   "source": [
    "train_loader = DataLoader(dataset=dataset, batch_size=batch_size, shuffle=True)"
   ]
  },
  {
   "attachments": {},
   "cell_type": "markdown",
   "metadata": {},
   "source": [
    "### Fit Function"
   ]
  },
  {
   "cell_type": "code",
   "execution_count": 9,
   "metadata": {},
   "outputs": [
    {
     "data": {
      "text/plain": [
       "<All keys matched successfully>"
      ]
     },
     "execution_count": 9,
     "metadata": {},
     "output_type": "execute_result"
    }
   ],
   "source": [
    "model = VAE(in_dim, h_dim, z_dim)\n",
    "checkpoint = torch.load('weights/best_model_100epochs.pth')\n",
    "model.load_state_dict(checkpoint)"
   ]
  },
  {
   "cell_type": "code",
   "execution_count": 10,
   "metadata": {},
   "outputs": [],
   "source": [
    "def fit(model, train_loader, in_dim, epochs):\n",
    "    model.to(device)\n",
    "    optimizer = torch.optim.Adam(model.parameters(), lr=lr)\n",
    "    loss_fn = nn.BCELoss(reduction=\"sum\")\n",
    "    train_losses = []\n",
    "    for epoch in range(epochs):\n",
    "        model.train()\n",
    "        train_loss = []\n",
    "        loop = tqdm(train_loader)\n",
    "        for step, (x, _) in enumerate(loop):\n",
    "            # Forward pass\n",
    "            x = x.to(device).view(x.shape[0], in_dim)\n",
    "            x_rec, mu, sigma = model(x)\n",
    "\n",
    "            # Compute loss\n",
    "            rec_loss = loss_fn(x_rec, x)         # reconstruction loss      \n",
    "            kl_div = -torch.sum(1 + torch.log(sigma.pow(2)) - mu.pow(2) - sigma.pow(2))\n",
    "\n",
    "            # Backprop\n",
    "            loss = rec_loss + kl_div\n",
    "            train_loss.append(loss.item())\n",
    "            mean_tl = np.mean(train_loss)\n",
    "            optimizer.zero_grad()\n",
    "            loss.backward()\n",
    "            optimizer.step()\n",
    "            loop.set_description(f\"Loss {mean_tl}\")\n",
    "\n",
    "            if epoch % 5 == 0 and step == 0 and epoch != 0:\n",
    "                print(f\"Epoch {epoch} | step {step:03d} Loss: {mean_tl}\")\n",
    "                torch.save(model.state_dict(), 'weights/best_model_150epochs.pth')\n",
    "                print(\"WEIGHTS-ARE-SAVED\")\n",
    "        train_losses.append(mean_tl)\n",
    "    return train_losses"
   ]
  },
  {
   "attachments": {},
   "cell_type": "markdown",
   "metadata": {},
   "source": [
    "### Training"
   ]
  },
  {
   "cell_type": "code",
   "execution_count": 11,
   "metadata": {},
   "outputs": [],
   "source": [
    "# train_losses = fit(model, train_loader, in_dim, epochs)"
   ]
  },
  {
   "attachments": {},
   "cell_type": "markdown",
   "metadata": {},
   "source": [
    "### Plotting Loss"
   ]
  },
  {
   "cell_type": "code",
   "execution_count": 12,
   "metadata": {},
   "outputs": [],
   "source": [
    "def plot_loss(train_losses):\n",
    "    plt.plot(train_losses , label = 'train_loss')\n",
    "    plt.xlabel('No of Epochs')\n",
    "    plt.ylabel('Loss')\n",
    "    plt.legend()\n",
    "    plt.show()"
   ]
  },
  {
   "cell_type": "code",
   "execution_count": 13,
   "metadata": {},
   "outputs": [],
   "source": [
    "# plot_loss(train_losses)"
   ]
  },
  {
   "attachments": {},
   "cell_type": "markdown",
   "metadata": {},
   "source": [
    "### Inference"
   ]
  },
  {
   "cell_type": "code",
   "execution_count": 14,
   "metadata": {},
   "outputs": [],
   "source": [
    "# Generates (num_examples) of a particular digit.\n",
    "model = model.to(\"cpu\")\n",
    "def inference(digit, num_examples=1):\n",
    "    images = []\n",
    "    idx = 0\n",
    "    for x, y in dataset:\n",
    "        if y == idx:\n",
    "            images.append(x)\n",
    "            idx += 1\n",
    "        if idx == 10:\n",
    "            break\n",
    "\n",
    "    encodings_digit = []\n",
    "    for d in range(10):\n",
    "        with torch.no_grad():\n",
    "            mu, sigma = model.encode(images[d].view(1, 784))\n",
    "        encodings_digit.append((mu, sigma))\n",
    "\n",
    "    mu, sigma = encodings_digit[digit]\n",
    "    for example in range(num_examples):\n",
    "        epsilon = torch.randn_like(sigma)\n",
    "        z = mu + sigma * epsilon\n",
    "        out = model.decode(z)\n",
    "        out = out.view(-1, 1, 28, 28)\n",
    "        save_image(out, f\"generated/generated_{digit}_ex{example}.png\")"
   ]
  },
  {
   "cell_type": "code",
   "execution_count": 15,
   "metadata": {},
   "outputs": [],
   "source": [
    "for idx in range(10):\n",
    "    inference(idx, num_examples=5)"
   ]
  }
 ],
 "metadata": {
  "kernelspec": {
   "display_name": "torch_cuda",
   "language": "python",
   "name": "python3"
  },
  "language_info": {
   "codemirror_mode": {
    "name": "ipython",
    "version": 3
   },
   "file_extension": ".py",
   "mimetype": "text/x-python",
   "name": "python",
   "nbconvert_exporter": "python",
   "pygments_lexer": "ipython3",
   "version": "3.9.13"
  },
  "orig_nbformat": 4,
  "vscode": {
   "interpreter": {
    "hash": "55a882b0538d14dff05ad96a64cfa79543a91ba14ba9a5552fab1f7415089c91"
   }
  }
 },
 "nbformat": 4,
 "nbformat_minor": 2
}
